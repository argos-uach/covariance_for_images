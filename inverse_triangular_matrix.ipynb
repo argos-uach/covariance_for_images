{
 "cells": [
  {
   "cell_type": "markdown",
   "metadata": {},
   "source": [
    "https://mobiusfunction.wordpress.com/2010/12/08/the-inverse-of-triangular-matrix-as-a-binomial-series/\n",
    "\n",
    "https://stackoverflow.com/questions/420612/is-there-around-a-straightforward-way-to-invert-a-triangular-upper-or-lower-ma\n",
    "\n",
    "https://www.google.com/search?q=%22Inverse+of+triangular+matrix%22&safe=active&client=firefox-b-d&ei=OqPlXo7OLtyV5OUPoPGroAI&start=10&sa=N&ved=2ahUKEwiO073vt4DqAhXcCrkGHaD4CiQQ8NMDegQIDRA4&biw=1399&bih=622"
   ]
  },
  {
   "cell_type": "markdown",
   "metadata": {},
   "source": [
    "Experiment on lower triangular matrix inversion performance"
   ]
  },
  {
   "cell_type": "code",
   "execution_count": null,
   "metadata": {},
   "outputs": [],
   "source": [
    "n = size(A,1);\n",
    "B = zeros(n);\n",
    "for i=1:n\n",
    "    B(i,i) = 1/A(i,i);\n",
    "    for j=1:i-1\n",
    "        s = 0;\n",
    "        for k=j:i-1\n",
    "            s = s + A(i,k)*B(k,j);\n",
    "        end\n",
    "        B(i,j) = -s*B(i,i);\n",
    "    end\n",
    "end"
   ]
  },
  {
   "cell_type": "code",
   "execution_count": 4,
   "metadata": {},
   "outputs": [],
   "source": [
    "import numpy as np\n",
    "import matplotlib.pyplot as plt\n",
    "from numpy import matrix as mtx, identity as I\n",
    "from numpy import set_printoptions, tril, triu\n",
    "from scipy.linalg import solve_triangular\n",
    "\n",
    "\n",
    "def triangular_inversion(triang_arg):\n",
    "    # https://dumpz.org/czbtFe4FS8m6\n",
    "    \"\"\"Counts inversion of a triangular matrix (lower or upper).\n",
    "\n",
    "    Args:\n",
    "        triang_arg (np.matrix, np.array): triangular matrix for inversion\n",
    "\n",
    "    Returns:\n",
    "        np.matrix: inverse of triangular matrix\n",
    "        \n",
    "    Raises:\n",
    "        Exception: An error occured while passing non-square matrix\n",
    "        Exception: An error occured while passing non-triangular matrix\n",
    "        Exception: An error occured while passing singular matrix\n",
    "\n",
    "    \"\"\"\n",
    "    #if len(triang.shape) != 2 or triang_arg.shape[0] != triang_arg.shape[1]:\n",
    "    #    raise Exception('Matrix is non-square')\n",
    "    #if triang_arg not in [tril(triang_arg), triu(triang_arg)]:\n",
    "    #    raise Exception('Matrix is not triangular')\n",
    "   # if len(triang_arg.diagonal().nonzero()[0]):\n",
    "    #    raise Exception('Matrix is singular')\n",
    "\n",
    "    triang = mtx(triang_arg.copy())\n",
    "    n = triang.shape[0]\n",
    "\n",
    "    unitriang_maker = mtx(I(n)) / triang.diagonal()\n",
    "    unitriang = unitriang_maker * triang\n",
    "    nilpotent = unitriang - I(n)\n",
    "\n",
    "    unitriang_inverse = mtx(I(n))\n",
    "    for i in range(n-1):\n",
    "        unitriang_inverse = mtx(I(n)) - nilpotent * unitriang_inverse\n",
    "\n",
    "    return unitriang_inverse * unitriang_maker\n"
   ]
  },
  {
   "cell_type": "code",
   "execution_count": 7,
   "metadata": {},
   "outputs": [
    {
     "data": {
      "text/plain": [
       "array([[ 1. ,  0. ,  0. , ...,  0. ,  0. ,  0. ],\n",
       "       [-0.2,  1. ,  0. , ...,  0. ,  0. ,  0. ],\n",
       "       [ 0. , -0.2,  1. , ...,  0. ,  0. ,  0. ],\n",
       "       ...,\n",
       "       [ 0. ,  0. ,  0. , ...,  1. ,  0. ,  0. ],\n",
       "       [ 0. ,  0. ,  0. , ..., -0.2,  1. ,  0. ],\n",
       "       [ 0. ,  0. ,  0. , ...,  0. , -0.2,  1. ]])"
      ]
     },
     "metadata": {},
     "output_type": "display_data"
    }
   ],
   "source": [
    "N= 20\n",
    "k = -0.2\n",
    "\n",
    "L = np.zeros(shape=(N*N, N*N))\n",
    "i, j = np.indices(L.shape)\n",
    "L[i==j] = 1 # main diagonal\n",
    "L[(i==j+1) & ~(np.mod(i, N)==0)] = k # right neighbour\n",
    "L[(i == j+N) ] = k # lower neighbour\n",
    "\n",
    "display(L)"
   ]
  },
  {
   "cell_type": "code",
   "execution_count": 8,
   "metadata": {},
   "outputs": [
    {
     "data": {
      "text/plain": [
       "True"
      ]
     },
     "metadata": {},
     "output_type": "display_data"
    },
    {
     "data": {
      "text/plain": [
       "True"
      ]
     },
     "metadata": {},
     "output_type": "display_data"
    }
   ],
   "source": [
    "Linv1 = np.linalg.inv(L)\n",
    "Linv2 = solve_triangular(L, np.eye(*L.shape), lower=True)\n",
    "Linv3 = triangular_inversion(L)\n",
    "display(np.allclose(Linv1, Linv2), np.allclose(Linv1, Linv3))"
   ]
  },
  {
   "cell_type": "code",
   "execution_count": 9,
   "metadata": {},
   "outputs": [
    {
     "name": "stdout",
     "output_type": "stream",
     "text": [
      "9.91 ms ± 2.19 ms per loop (mean ± std. dev. of 10 runs, 100 loops each)\n",
      "3.85 ms ± 677 µs per loop (mean ± std. dev. of 10 runs, 100 loops each)\n",
      "2.24 s ± 488 ms per loop (mean ± std. dev. of 10 runs, 1 loop each)\n"
     ]
    }
   ],
   "source": [
    "%timeit -r10 np.linalg.inv(L)\n",
    "%timeit -r10 solve_triangular(L, np.eye(*L.shape), lower=True)\n",
    "%timeit -r10 triangular_inversion(L)"
   ]
  },
  {
   "cell_type": "code",
   "execution_count": null,
   "metadata": {},
   "outputs": [],
   "source": []
  }
 ],
 "metadata": {
  "kernelspec": {
   "display_name": "Python 3",
   "language": "python",
   "name": "python3"
  },
  "language_info": {
   "codemirror_mode": {
    "name": "ipython",
    "version": 3
   },
   "file_extension": ".py",
   "mimetype": "text/x-python",
   "name": "python",
   "nbconvert_exporter": "python",
   "pygments_lexer": "ipython3",
   "version": "3.7.6"
  }
 },
 "nbformat": 4,
 "nbformat_minor": 4
}
